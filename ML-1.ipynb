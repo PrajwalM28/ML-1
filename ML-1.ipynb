{
 "cells": [
  {
   "cell_type": "markdown",
   "id": "76a653c8-7835-45f4-b324-af1a855a9a7d",
   "metadata": {},
   "source": [
    "# Q1.\n",
    "\n",
    "Explain the following with an example : \n",
    "    \n",
    "    - Artificial Intelligence\n",
    "    - Machine Learning \n",
    "    - Deep Learning"
   ]
  },
  {
   "cell_type": "markdown",
   "id": "c2b4cbc9-0a26-4dd7-bde3-f7fad69446ea",
   "metadata": {},
   "source": [
    "- Artificial Intelligence : \n",
    "    \n",
    "    - Artificial Intelligence refers to the development of computer systems that can perform tasks that typically require human intelligence.\n",
    "    - Virtual Personal assistants like Siri or Google Assistant.\n",
    "    \n",
    "- Machine Learning : \n",
    "\n",
    "    - Machine Learning is a subset of AI that focuses on the development of algorithms and statistical models that enable computers to improve their performance on a specific task through learning from data\n",
    "    - Netflix , recommendation systems.\n",
    "    \n",
    "- Deep Learning : \n",
    "\n",
    "    - Deep Learning is a subfield of machine learning that involves artificial neural networks, particularly deep neural networks with multiple layers.\n",
    "    - Image recognitaion using CNN."
   ]
  },
  {
   "cell_type": "markdown",
   "id": "fd24bbbc-b9a9-4ccc-b4c2-f6e6dd7755f0",
   "metadata": {},
   "source": [
    "# Q2.\n",
    "\n",
    "What is Supervised Learning ? List some examples of supervised learning."
   ]
  },
  {
   "cell_type": "markdown",
   "id": "8730d4b5-b122-448b-b838-c63929ae1319",
   "metadata": {},
   "source": [
    "- Supervised learning is a type of machine learning where the algorithm is trained on a labeled dataset, meaning that each input in the training data is associated with a corresponding output.\n",
    "\n",
    "- Examples : \n",
    "    - Image Classification\n",
    "    - Speech Recognition\n",
    "    - Credit Scoring"
   ]
  },
  {
   "cell_type": "markdown",
   "id": "6c3536fe-852e-4a4e-8eee-b4fb03aa7cda",
   "metadata": {},
   "source": [
    "# Q3.\n",
    "\n",
    "What is unsupervised Learning ? List some examples of unsupervised learning."
   ]
  },
  {
   "cell_type": "markdown",
   "id": "0fd3377e-45f7-413a-8ff1-da887a945399",
   "metadata": {},
   "source": [
    "- Unsupervised learning is a type of machine learning where the algorithm is given unlabeled data and must find patterns, relationships, or structures within that data without explicit guidance or labeled outputs. \n",
    "\n",
    "- Examples : \n",
    "    - Clustering \n",
    "    - Anomaly Detection\n",
    "    - Generative Models"
   ]
  },
  {
   "cell_type": "markdown",
   "id": "92a90f92-ba25-44a0-b9e1-8c39b45464a4",
   "metadata": {},
   "source": [
    "# Q4.\n",
    "\n",
    "What is the difference between AI , ML , DL and DS ? "
   ]
  },
  {
   "cell_type": "markdown",
   "id": "a19d78e8-fe2f-441c-8ada-363766c981d5",
   "metadata": {},
   "source": [
    "- AI is the overarching field focused on creating intelligent machines.\n",
    "\n",
    "- ML is a subset of AI that emphasizes learning from data.\n",
    "\n",
    "- DL is a specialized form of ML involving deep neural networks.\n",
    "\n",
    "- DS is a broader field that encompasses the entire data analysis process."
   ]
  },
  {
   "cell_type": "markdown",
   "id": "744ed0fb-7a05-4594-9f8d-176d3602d0f5",
   "metadata": {},
   "source": [
    "# Q5.\n",
    "\n",
    "What are the main differences between supervised , unsupervised and semi-supervised leaning ?"
   ]
  },
  {
   "cell_type": "markdown",
   "id": "95823656-baaa-4f56-8e94-fedcd3d13698",
   "metadata": {},
   "source": [
    "- Supervised learning requires labeled data.\n",
    "\n",
    "- Unsupervised learning operates on unlabeled data to discover patterns.\n",
    "\n",
    "- Semi-supervised learning combines both labeled and unlabeled data to leverage the benefits of both approaches. "
   ]
  },
  {
   "cell_type": "markdown",
   "id": "9faef8d7-378c-4af5-a2ae-67608844583b",
   "metadata": {},
   "source": [
    "# Q6.\n",
    "\n",
    "What is train , test and validation split ? Explain the importance of each term."
   ]
  },
  {
   "cell_type": "markdown",
   "id": "27c73e50-9a60-4700-8be1-660e212f6528",
   "metadata": {},
   "source": [
    "- Training Set : \n",
    "    \n",
    "    - The training set is used to train the machine learning model.\n",
    "    - The training set is crucial for building a model that generalizes well to new, unseen data.\n",
    "    \n",
    "- Test Set : \n",
    "\n",
    "    - The test set is reserved for evaluating the performance of the trained model. \n",
    "    - The test set provides an unbiased evaluation of the model's generalization to new data.\n",
    "    \n",
    "- Validation Set : \n",
    "\n",
    "    - The validation set is an additional subset, distinct from the training and test sets.\n",
    "    - The validation set is crucial for preventing overfitting, where a model performs well on the training set but fails to generalize to new data. "
   ]
  },
  {
   "cell_type": "markdown",
   "id": "1e03307d-a4cc-4b8c-8505-df3491ea0487",
   "metadata": {},
   "source": [
    "# Q7.\n",
    "\n",
    "How can unsupervised learning be used in anomaly detection ?"
   ]
  },
  {
   "cell_type": "markdown",
   "id": "798009f7-4532-4b23-9137-11f5aed3cf54",
   "metadata": {},
   "source": [
    "- because it allows the algorithm to identify patterns and structures within data without requiring labeled examples of anomalies."
   ]
  },
  {
   "cell_type": "markdown",
   "id": "cef5415d-ab34-4e8b-8ab6-a3bcc4f02ec3",
   "metadata": {},
   "source": [
    "# Q8.\n",
    "\n",
    "List down some commonly used supervised learning algorithms and unsupervised learning algorithms."
   ]
  },
  {
   "cell_type": "markdown",
   "id": "1a3c3114-fa2e-4f99-80fa-0174ceb7b0c0",
   "metadata": {},
   "source": [
    "- Supervised Algorithms : \n",
    "    \n",
    "    - Linear Regression\n",
    "    - Logistic Regression\n",
    "    - Decision Trees\n",
    "    - Random Forest\n",
    "    - Neural Networks\n",
    "    \n",
    "- Unsupervised Algorithms :\n",
    "     \n",
    "        - K-Means Clustering\n",
    "        - Hierarchical Clustering\n",
    "        - Mean Shift\n",
    "        - PCA\n",
    "        - Isolation Forest"
   ]
  }
 ],
 "metadata": {
  "kernelspec": {
   "display_name": "Python 3 (ipykernel)",
   "language": "python",
   "name": "python3"
  },
  "language_info": {
   "codemirror_mode": {
    "name": "ipython",
    "version": 3
   },
   "file_extension": ".py",
   "mimetype": "text/x-python",
   "name": "python",
   "nbconvert_exporter": "python",
   "pygments_lexer": "ipython3",
   "version": "3.10.8"
  }
 },
 "nbformat": 4,
 "nbformat_minor": 5
}
